{
 "cells": [
  {
   "cell_type": "code",
   "execution_count": null,
   "metadata": {},
   "outputs": [],
   "source": [
    "%load_ext watermark\n",
    "%watermark -a 'Christian Schuhegger' -u -d -v -p numpy,pandas,matplotlib,seaborn,rpy2,libpgm,pgmpy,networkx,graphviz,xarray,dsbasics,pytest\n",
    "#,pygraphviz"
   ]
  },
  {
   "cell_type": "code",
   "execution_count": null,
   "metadata": {},
   "outputs": [],
   "source": [
    "%matplotlib inline\n",
    "import numpy as np, scipy, scipy.stats as stats, pandas as pd, matplotlib.pyplot as plt, seaborn as sns\n",
    "import pgmpy, pgmpy.models, pgmpy.factors.discrete, pgmpy.inference, libpgm, pytest\n",
    "import datetime, time\n",
    "import matplotlib.dates\n",
    "import pytz\n",
    "from dateutil import relativedelta\n",
    "import timeit\n",
    "\n",
    "pd.set_option('display.max_columns', 500)\n",
    "pd.set_option('display.width', 1000)\n",
    "# pd.set_option('display.float_format', lambda x: '%.2f' % x)\n",
    "np.set_printoptions(edgeitems=10)\n",
    "np.set_printoptions(suppress=True)\n",
    "np.core.arrayprint._line_width = 180\n",
    "\n",
    "sns.set()"
   ]
  },
  {
   "cell_type": "code",
   "execution_count": null,
   "metadata": {},
   "outputs": [],
   "source": [
    "from IPython.display import display, HTML\n",
    "\n",
    "from IPython.display import display_html\n",
    "def display_side_by_side(*args):\n",
    "    html_str=''\n",
    "    for df in args:\n",
    "        if type(df) == np.ndarray:\n",
    "            df = pd.DataFrame(df)\n",
    "        html_str+=df.to_html()\n",
    "    html_str = html_str.replace('table','table style=\"display:inline\"')\n",
    "    # print(html_str)\n",
    "    display_html(html_str,raw=True)\n",
    "\n",
    "CSS = \"\"\"\n",
    ".output {\n",
    "    flex-direction: row;\n",
    "}\n",
    "\"\"\"\n",
    "\n",
    "#HTML('<style>{}</style>'.format(CSS))"
   ]
  },
  {
   "cell_type": "code",
   "execution_count": null,
   "metadata": {},
   "outputs": [],
   "source": [
    "%load_ext autoreload\n",
    "%autoreload 1\n",
    "%aimport dsbasics.bn"
   ]
  },
  {
   "cell_type": "markdown",
   "metadata": {},
   "source": [
    "* [rpy2](https://rpy2.bitbucket.io/) on bitbucket\n",
    "* [rpy2](https://rpy2.github.io/) on github pages"
   ]
  },
  {
   "cell_type": "markdown",
   "metadata": {},
   "source": [
    "* [bnlearn](http://www.bnlearn.com/)\n",
    "* [manual](http://www.bnlearn.com/documentation/man/)"
   ]
  },
  {
   "cell_type": "code",
   "execution_count": null,
   "metadata": {},
   "outputs": [],
   "source": [
    "import locale\n",
    "locale.setlocale(locale.LC_ALL, 'C')\n",
    "\n",
    "import rpy2, rpy2.rinterface, rpy2.robjects, rpy2.robjects.packages, rpy2.robjects.lib, rpy2.robjects.lib.grid, \\\n",
    "    rpy2.robjects.lib.ggplot2, rpy2.robjects.pandas2ri, rpy2.interactive.process_revents, \\\n",
    "    rpy2.interactive, rpy2.robjects.lib.grdevices\n",
    "# rpy2.interactive.process_revents.start()\n",
    "rpy2.robjects.pandas2ri.activate()\n",
    "\n",
    "# import R's \"base\" package\n",
    "base = rpy2.robjects.packages.importr('base')\n",
    "# import R's utility package\n",
    "utils = rpy2.robjects.packages.importr('utils')\n",
    "# select a mirror for R packages\n",
    "utils.chooseCRANmirror(ind=1) # select the first mirror in the list\n",
    "\n",
    "# R package names\n",
    "packnames = ('bnlearn', 'gRain')\n",
    "\n",
    "# R vector of strings\n",
    "\n",
    "# Selectively install what needs to be install.\n",
    "# We are fancy, just because we can.\n",
    "names_to_install = [x for x in packnames if not rpy2.robjects.packages.isinstalled(x)]\n",
    "if len(names_to_install) > 0:\n",
    "    utils.install_packages(rpy2.robjects.StrVector(names_to_install))\n",
    "\n",
    "grdevices   = rpy2.robjects.packages.importr('grDevices')\n",
    "bnlearn     = rpy2.robjects.packages.importr('bnlearn')\n",
    "gRain       = rpy2.robjects.packages.importr('gRain')"
   ]
  },
  {
   "cell_type": "markdown",
   "metadata": {},
   "source": [
    "The test case follows exercise 5.1 from \"Doing Bayesian Data Analysis\" by John K. Kruschke:\n",
    "* https://sites.google.com/site/doingbayesiandataanalysis/exercises\n",
    "* [Kruschke-DBDA2E-ExerciseSolutions.pdf](https://sites.google.com/site/doingbayesiandataanalysis/exercises/Kruschke-DBDA2E-ExerciseSolutions.pdf) p. 17"
   ]
  },
  {
   "cell_type": "code",
   "execution_count": null,
   "metadata": {},
   "outputs": [],
   "source": [
    "p_disease_present = 0.001\n",
    "prior = pd.DataFrame([p_disease_present, 1-p_disease_present], columns=['disease-state'])\n",
    "prior.index = pd.Index(['disease-present', 'disease-absent'])\n",
    "\n",
    "p_test_positive_given_disease_present = 0.99\n",
    "p_test_positive_given_disease_absent = 0.05\n",
    "\n",
    "disease_test_cpd_df = pd.DataFrame([[p_test_positive_given_disease_present, p_test_positive_given_disease_absent],\n",
    "                                    [1 - p_test_positive_given_disease_present, 1 - p_test_positive_given_disease_absent]], columns=['disease-present', 'disease-absent'])\n",
    "disease_test_cpd_df.index = pd.Index(['test-positive', 'test-negative'])\n",
    "\n",
    "posterior = prior['disease-state'].copy()\n",
    "\n",
    "# selected_row = disease_test_cpd_df.loc['test-positive', :]\n",
    "# posterior = selected_row * posterior\n",
    "# posterior = posterior / float(posterior.sum())\n",
    "# posterior['disease-present']\n",
    "\n",
    "for x in ['test-positive', 'test-negative']:\n",
    "    selected_row = disease_test_cpd_df.loc[x,:]\n",
    "    posterior = selected_row * posterior\n",
    "    posterior = posterior / float(posterior.sum())\n"
   ]
  },
  {
   "cell_type": "code",
   "execution_count": null,
   "metadata": {},
   "outputs": [],
   "source": [
    "prior"
   ]
  },
  {
   "cell_type": "code",
   "execution_count": null,
   "metadata": {},
   "outputs": [],
   "source": [
    "disease_test_cpd_df"
   ]
  },
  {
   "cell_type": "code",
   "execution_count": null,
   "metadata": {},
   "outputs": [],
   "source": [
    "posterior"
   ]
  },
  {
   "cell_type": "code",
   "execution_count": null,
   "metadata": {},
   "outputs": [],
   "source": [
    "disease_state_CPD = pgmpy.factors.discrete.TabularCPD(variable='disease-state',\n",
    "                                                      variable_card=2,\n",
    "                                                      values=[[p_disease_present], [1.0 - p_disease_present]])\n",
    "print(disease_state_CPD)"
   ]
  },
  {
   "cell_type": "code",
   "execution_count": null,
   "metadata": {},
   "outputs": [],
   "source": [
    "test_result_CPD_1 = pgmpy.factors.discrete.TabularCPD(\n",
    "     variable='test-result1',\n",
    "     variable_card=2,\n",
    "     values=[[p_test_positive_given_disease_present, p_test_positive_given_disease_absent],\n",
    "             [(1 - p_test_positive_given_disease_present), (1 - p_test_positive_given_disease_absent)]],\n",
    "     evidence=['disease-state'],\n",
    "     evidence_card=[2])\n",
    "print(test_result_CPD_1)"
   ]
  },
  {
   "cell_type": "code",
   "execution_count": null,
   "metadata": {},
   "outputs": [],
   "source": [
    "test_result_CPD_2 = pgmpy.factors.discrete.TabularCPD(\n",
    "     variable='test-result2',\n",
    "     variable_card=2,\n",
    "     values=[[p_test_positive_given_disease_present, p_test_positive_given_disease_absent],\n",
    "             [(1 - p_test_positive_given_disease_present), (1 - p_test_positive_given_disease_absent)]],\n",
    "     evidence=['disease-state'],\n",
    "     evidence_card=[2])\n",
    "print(test_result_CPD_2)"
   ]
  },
  {
   "cell_type": "code",
   "execution_count": null,
   "metadata": {},
   "outputs": [],
   "source": [
    "model = pgmpy.models.BayesianModel()\n",
    "\n",
    "model.add_nodes_from(['disease-state', 'test-result1', 'test-result2'])\n",
    "model.add_edge('disease-state', 'test-result1')\n",
    "model.add_edge('disease-state', 'test-result2')\n",
    "\n",
    "model.add_cpds(disease_state_CPD, test_result_CPD_1, test_result_CPD_2)\n",
    "model.check_model()"
   ]
  },
  {
   "cell_type": "markdown",
   "metadata": {},
   "source": [
    "* [TypeError: object of type 'dict_keyiterator' has no len()](https://github.com/pgmpy/pgmpy/issues/927)"
   ]
  },
  {
   "cell_type": "code",
   "execution_count": null,
   "metadata": {},
   "outputs": [],
   "source": [
    "# infr1 = pgmpy.inference.BeliefPropagation(model)\n",
    "# evidence = {'test-result1': 0}\n",
    "# query_vars = ['disease-state']\n",
    "# p_disease = infr1.query(variables=query_vars, evidence=evidence)['disease-state'].values[0]\n",
    "# # pprint('{0:f}'.format(p_disease))\n",
    "# assert p_disease == pytest.approx(0.01943463, 0.0000001)"
   ]
  },
  {
   "cell_type": "code",
   "execution_count": null,
   "metadata": {},
   "outputs": [],
   "source": [
    "# p_disease"
   ]
  },
  {
   "cell_type": "code",
   "execution_count": null,
   "metadata": {},
   "outputs": [],
   "source": [
    "# infr2 = pgmpy.inference.VariableElimination(model)\n",
    "# p_disease = infr2.query(variables=query_vars, evidence=evidence)['disease-state'].values[0]\n",
    "# assert p_disease == pytest.approx(0.01943463, 0.0000001)"
   ]
  },
  {
   "cell_type": "code",
   "execution_count": null,
   "metadata": {},
   "outputs": [],
   "source": [
    "# p_disease"
   ]
  },
  {
   "cell_type": "code",
   "execution_count": null,
   "metadata": {},
   "outputs": [],
   "source": [
    "df_disease_state_pm_table = pd.DataFrame(\n",
    "    [\n",
    "        [True,  p_disease_present], \n",
    "        [False, 1-p_disease_present], \n",
    "    ],columns=['disease-present','p'])\n",
    "df_disease_state_pm_table"
   ]
  },
  {
   "cell_type": "code",
   "execution_count": null,
   "metadata": {},
   "outputs": [],
   "source": [
    "df_test_when_disease_cpm_table = pd.DataFrame(\n",
    "    [\n",
    "        [True, True, p_test_positive_given_disease_present],\n",
    "        [True, False, 1- p_test_positive_given_disease_present],\n",
    "        [False, True, p_test_positive_given_disease_absent],\n",
    "        [False, False, 1- p_test_positive_given_disease_absent],\n",
    "    ],columns=['disease-present','test-result','p']\n",
    ")\n",
    "df_test_when_disease_cpm_table"
   ]
  },
  {
   "cell_type": "code",
   "execution_count": null,
   "metadata": {},
   "outputs": [],
   "source": [
    "import qgrid,itertools"
   ]
  },
  {
   "cell_type": "markdown",
   "metadata": {},
   "source": [
    "* [pd.Categorical](https://pandas.pydata.org/pandas-docs/version/0.22.0/categorical.html)"
   ]
  },
  {
   "cell_type": "code",
   "execution_count": null,
   "metadata": {},
   "outputs": [],
   "source": [
    "disease_present = pd.Categorical([False, True], categories=[False, True], ordered=True)\n",
    "disease_present.categories"
   ]
  },
  {
   "cell_type": "code",
   "execution_count": null,
   "metadata": {},
   "outputs": [],
   "source": [
    "test_result = pd.Categorical([False, True], categories=[False, True], ordered=True)\n",
    "test_result"
   ]
  },
  {
   "cell_type": "code",
   "execution_count": null,
   "metadata": {},
   "outputs": [],
   "source": [
    "dp_tr_product = list(itertools.product(list(disease_present.categories),list(test_result.categories)))\n",
    "dp_tr_product"
   ]
  },
  {
   "cell_type": "code",
   "execution_count": null,
   "metadata": {},
   "outputs": [],
   "source": [
    "df_tmp = pd.DataFrame(dp_tr_product, columns=['disease-present', 'test-result'])\n",
    "df_tmp['p'] = np.nan\n",
    "qgrid_widget = qgrid.show_grid(df_tmp, show_toolbar=True)\n",
    "qgrid_widget"
   ]
  },
  {
   "cell_type": "code",
   "execution_count": null,
   "metadata": {},
   "outputs": [],
   "source": [
    "qgrid_widget.get_changed_df().head()"
   ]
  },
  {
   "cell_type": "code",
   "execution_count": null,
   "metadata": {},
   "outputs": [],
   "source": [
    "# df_test_when_disease_cpm_table.pivot_table(index   = ['disease-present'], \n",
    "#                                            columns = ['test-result'],\n",
    "#                                            values  = 'p')\n",
    "df_test_when_disease_cpm_table.pivot_table(index   = list(df_test_when_disease_cpm_table.columns[:-2]), \n",
    "                                           columns = list(df_test_when_disease_cpm_table.columns[-2:-1]),\n",
    "                                           values  = df_test_when_disease_cpm_table.columns[-1])\n",
    "# df_test_when_disease_cpm_table.columns[-1]"
   ]
  },
  {
   "cell_type": "markdown",
   "metadata": {},
   "source": [
    "* [networkx](https://github.com/networkx/networkx)\n",
    "* [tutorial](https://networkx.github.io/documentation/stable/tutorial.html)"
   ]
  },
  {
   "cell_type": "code",
   "execution_count": null,
   "metadata": {},
   "outputs": [],
   "source": [
    "import networkx as nx"
   ]
  },
  {
   "cell_type": "code",
   "execution_count": null,
   "metadata": {},
   "outputs": [],
   "source": [
    "dg = nx.DiGraph()\n",
    "# G.add_node(1)\n",
    "dg.add_nodes_from(list(df_test_when_disease_cpm_table.columns[:-1]))\n",
    "dg.add_edges_from([\n",
    "    list(df_test_when_disease_cpm_table.columns[:-1]),\n",
    "])"
   ]
  },
  {
   "cell_type": "code",
   "execution_count": null,
   "metadata": {},
   "outputs": [],
   "source": [
    "list(nx.connected_components(dg.to_undirected()))"
   ]
  },
  {
   "cell_type": "code",
   "execution_count": null,
   "metadata": {},
   "outputs": [],
   "source": [
    "nx.draw(dg, with_labels=True)"
   ]
  },
  {
   "cell_type": "code",
   "execution_count": null,
   "metadata": {},
   "outputs": [],
   "source": [
    "# pos = nx.nx_agraph.graphviz_layout(dg)\n",
    "# nx.draw(dg, with_labels=True, pos=pos)"
   ]
  },
  {
   "cell_type": "code",
   "execution_count": null,
   "metadata": {},
   "outputs": [],
   "source": [
    "list(dg.nodes())"
   ]
  },
  {
   "cell_type": "code",
   "execution_count": null,
   "metadata": {},
   "outputs": [],
   "source": [
    "list(dg.edges())"
   ]
  },
  {
   "cell_type": "markdown",
   "metadata": {},
   "source": [
    "* [graphviz](https://github.com/xflr6/graphviz)\n",
    "* [graphviz.readthedocs](https://graphviz.readthedocs.io/en/stable/)\n",
    "* [examples/notebook.ipynb](https://github.com/xflr6/graphviz/blob/master/examples/notebook.ipynb)"
   ]
  },
  {
   "cell_type": "code",
   "execution_count": null,
   "metadata": {},
   "outputs": [],
   "source": [
    "import graphviz"
   ]
  },
  {
   "cell_type": "code",
   "execution_count": null,
   "metadata": {},
   "outputs": [],
   "source": [
    "dot = graphviz.Digraph(comment='The Round Table')"
   ]
  },
  {
   "cell_type": "code",
   "execution_count": null,
   "metadata": {},
   "outputs": [],
   "source": [
    "dot.node('A', 'King Arthur')\n",
    "dot.node('B', 'Sir Bedevere the Wise')\n",
    "dot.node('L', 'Sir Lancelot the Brave')\n",
    "\n",
    "dot.edges(['AB', 'AL'])\n",
    "dot.edge('B', 'L', constraint='false')"
   ]
  },
  {
   "cell_type": "code",
   "execution_count": null,
   "metadata": {},
   "outputs": [],
   "source": [
    "dot"
   ]
  },
  {
   "cell_type": "code",
   "execution_count": null,
   "metadata": {},
   "outputs": [],
   "source": [
    "dg_dot = graphviz.Digraph(comment='disease-network')\n",
    "for node in dg.nodes():\n",
    "    dg_dot.node(node)\n",
    "\n",
    "for edge in dg.edges():\n",
    "    dg_dot.edge(edge[0],edge[1])\n",
    "\n",
    "dg_dot"
   ]
  },
  {
   "cell_type": "markdown",
   "metadata": {},
   "source": [
    "* [xarray](https://xarray.pydata.org/en/stable/)\n",
    "* [xArray_seminar](http://meteo.unican.es/work/xarray_seminar/xArray_seminar.html)"
   ]
  },
  {
   "cell_type": "code",
   "execution_count": null,
   "metadata": {},
   "outputs": [],
   "source": [
    "import xarray as xr"
   ]
  },
  {
   "cell_type": "code",
   "execution_count": null,
   "metadata": {},
   "outputs": [],
   "source": [
    "df_test_when_disease_cpm_table"
   ]
  },
  {
   "cell_type": "code",
   "execution_count": null,
   "metadata": {},
   "outputs": [],
   "source": [
    "df_test_when_disease_cpm_xr = xr.DataArray(\n",
    "    [\n",
    "        [0.95, 0.05],\n",
    "        [0.01, 0.99],\n",
    "    ], \n",
    "    coords={'disease-present': [False, True], 'test-result': [False, True]}, \n",
    "    dims=('disease-present', 'test-result'))\n",
    "df_test_when_disease_cpm_xr"
   ]
  },
  {
   "cell_type": "code",
   "execution_count": null,
   "metadata": {},
   "outputs": [],
   "source": [
    "df_test_when_disease_cpm_xr.loc[False, True]"
   ]
  },
  {
   "cell_type": "code",
   "execution_count": null,
   "metadata": {},
   "outputs": [],
   "source": [
    "df_test_when_disease_cpm_xr.loc[{'disease-present': False, 'test-result': True}]"
   ]
  },
  {
   "cell_type": "code",
   "execution_count": null,
   "metadata": {},
   "outputs": [],
   "source": [
    "df_test_when_disease_cpm_xr.loc[{'disease-present': False, 'test-result': False}]"
   ]
  },
  {
   "cell_type": "code",
   "execution_count": null,
   "metadata": {},
   "outputs": [],
   "source": [
    "df_test_when_disease_cpm_xr.loc[{'disease-present': True, 'test-result': True}]"
   ]
  },
  {
   "cell_type": "code",
   "execution_count": null,
   "metadata": {},
   "outputs": [],
   "source": [
    "df_test_when_disease_cpm_xr.loc[{'disease-present': True, 'test-result': False}]"
   ]
  },
  {
   "cell_type": "code",
   "execution_count": null,
   "metadata": {},
   "outputs": [],
   "source": [
    "df_test_when_disease_cpm_xr.to_dataframe(name='p').reset_index()"
   ]
  },
  {
   "cell_type": "code",
   "execution_count": null,
   "metadata": {},
   "outputs": [],
   "source": [
    "df_test_when_disease_cpm_table.to_xarray()"
   ]
  },
  {
   "cell_type": "code",
   "execution_count": null,
   "metadata": {},
   "outputs": [],
   "source": [
    "pvalue_array = df_test_when_disease_cpm_table.groupby(['disease-present', 'test-result']).max().to_xarray().p.values\n",
    "pvalue_array"
   ]
  },
  {
   "cell_type": "code",
   "execution_count": null,
   "metadata": {},
   "outputs": [],
   "source": [
    "df_test_when_disease_cpm_xr"
   ]
  },
  {
   "cell_type": "code",
   "execution_count": null,
   "metadata": {},
   "outputs": [],
   "source": [
    "%load_ext rpy2.ipython"
   ]
  },
  {
   "cell_type": "markdown",
   "metadata": {},
   "source": [
    "* R [gl](https://www.rdocumentation.org/packages/base/versions/3.5.0/topics/gl) Generate Factor Levels"
   ]
  },
  {
   "cell_type": "code",
   "execution_count": null,
   "metadata": {
    "scrolled": true
   },
   "outputs": [],
   "source": [
    "%%R\n",
    "dni3 <- dimnames(iris3)\n",
    "print(dni3)\n",
    "ii <- data.frame(matrix(aperm(iris3, c(1,3,2)), \n",
    "                        ncol = 4, \n",
    "                        dimnames = list(NULL, sub(\" L.\",\".Length\", sub(\" W.\",\".Width\", dni3[[2]])))),\n",
    "                 Species = gl(3, 50, labels = sub(\"S\", \"s\", sub(\"V\", \"v\", dni3[[3]]))))\n",
    "print(typeof(ii))\n",
    "all.equal(ii, iris) # TRUE"
   ]
  },
  {
   "cell_type": "code",
   "execution_count": null,
   "metadata": {},
   "outputs": [],
   "source": [
    "# import os\n",
    "# os.environ['EDITOR']"
   ]
  },
  {
   "cell_type": "code",
   "execution_count": null,
   "metadata": {},
   "outputs": [],
   "source": [
    "# %%R\n",
    "# print(?lm)"
   ]
  },
  {
   "cell_type": "code",
   "execution_count": null,
   "metadata": {},
   "outputs": [],
   "source": [
    "# %%R\n",
    "# iris3"
   ]
  },
  {
   "cell_type": "code",
   "execution_count": null,
   "metadata": {},
   "outputs": [],
   "source": [
    "# %%R\n",
    "# iris"
   ]
  },
  {
   "cell_type": "code",
   "execution_count": null,
   "metadata": {},
   "outputs": [],
   "source": [
    "# %%R\n",
    "# aperm(iris3, c(1,3,2))"
   ]
  },
  {
   "cell_type": "code",
   "execution_count": null,
   "metadata": {},
   "outputs": [],
   "source": [
    "# %%R\n",
    "# sub(\" L.\",\".Length\", sub(\" W.\",\".Width\", dni3[[2]]))"
   ]
  },
  {
   "cell_type": "code",
   "execution_count": null,
   "metadata": {},
   "outputs": [],
   "source": [
    "# %%R\n",
    "# list(NULL, sub(\" L.\",\".Length\", sub(\" W.\",\".Width\", dni3[[2]])))"
   ]
  },
  {
   "cell_type": "code",
   "execution_count": null,
   "metadata": {},
   "outputs": [],
   "source": [
    "# %%R\n",
    "# matrix(aperm(iris3, c(1,3,2)),\n",
    "#        ncol = 4,\n",
    "#        dimnames = list(NULL, sub(\" L.\",\".Length\", sub(\" W.\",\".Width\", dni3[[2]]))))"
   ]
  },
  {
   "cell_type": "code",
   "execution_count": null,
   "metadata": {},
   "outputs": [],
   "source": [
    "%%R -i df_test_when_disease_cpm_table\n",
    "# print(typeof(df_test_when_disease_cpm_table))\n",
    "# print(typeof(df_test_when_disease_cpm_table[1]))\n",
    "# print(df_test_when_disease_cpm_table[1])\n",
    "# print(df_test_when_disease_cpm_table[2])\n",
    "df_test_when_disease_cpm_table"
   ]
  },
  {
   "cell_type": "code",
   "execution_count": null,
   "metadata": {},
   "outputs": [],
   "source": [
    "%%R -i pvalue_array\n",
    "pvalue_array"
   ]
  },
  {
   "cell_type": "markdown",
   "metadata": {},
   "source": [
    "* [ENH: Mosaic plot and DataArray](https://github.com/pydata/xarray/issues/779)"
   ]
  },
  {
   "cell_type": "code",
   "execution_count": null,
   "metadata": {},
   "outputs": [],
   "source": [
    "# %%R -i df_test_when_disease_cpm_xr\n",
    "# df_test_when_disease_cpm_xr"
   ]
  }
 ],
 "metadata": {
  "kernelspec": {
   "display_name": "Python 3",
   "language": "python",
   "name": "python3"
  },
  "language_info": {
   "codemirror_mode": {
    "name": "ipython",
    "version": 3
   },
   "file_extension": ".py",
   "mimetype": "text/x-python",
   "name": "python",
   "nbconvert_exporter": "python",
   "pygments_lexer": "ipython3",
   "version": "3.6.4"
  }
 },
 "nbformat": 4,
 "nbformat_minor": 2
}
