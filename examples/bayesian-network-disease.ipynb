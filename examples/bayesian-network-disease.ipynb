{
 "cells": [
  {
   "cell_type": "code",
   "execution_count": null,
   "metadata": {},
   "outputs": [],
   "source": [
    "%load_ext watermark\n",
    "%watermark -a 'Christian Schuhegger' -u -d -v -p numpy,pandas,matplotlib,seaborn,rpy2,libpgm,pgmpy,networkx,dsbasics,pytest"
   ]
  },
  {
   "cell_type": "code",
   "execution_count": null,
   "metadata": {},
   "outputs": [],
   "source": [
    "%matplotlib inline\n",
    "import numpy as np, scipy, scipy.stats as stats, pandas as pd, matplotlib.pyplot as plt, seaborn as sns\n",
    "import pgmpy, pgmpy.models, pgmpy.factors.discrete, pgmpy.inference, libpgm, pytest\n",
    "import datetime, time\n",
    "import matplotlib.dates\n",
    "import pytz\n",
    "from dateutil import relativedelta\n",
    "import timeit\n",
    "\n",
    "pd.set_option('display.max_columns', 500)\n",
    "pd.set_option('display.width', 1000)\n",
    "# pd.set_option('display.float_format', lambda x: '%.2f' % x)\n",
    "np.set_printoptions(edgeitems=10)\n",
    "np.set_printoptions(suppress=True)\n",
    "np.core.arrayprint._line_width = 180\n",
    "\n",
    "sns.set()"
   ]
  },
  {
   "cell_type": "code",
   "execution_count": null,
   "metadata": {},
   "outputs": [],
   "source": [
    "%load_ext autoreload\n",
    "%autoreload 1\n",
    "%aimport dsbasics.bn"
   ]
  },
  {
   "cell_type": "code",
   "execution_count": null,
   "metadata": {},
   "outputs": [],
   "source": [
    "import locale\n",
    "locale.setlocale(locale.LC_ALL, 'C')\n",
    "\n",
    "import rpy2, rpy2.rinterface, rpy2.robjects, rpy2.robjects.packages, rpy2.robjects.lib, rpy2.robjects.lib.grid, \\\n",
    "    rpy2.robjects.lib.ggplot2, rpy2.robjects.pandas2ri, rpy2.interactive.process_revents, \\\n",
    "    rpy2.interactive, rpy2.robjects.lib.grdevices\n",
    "# rpy2.interactive.process_revents.start()\n",
    "rpy2.robjects.pandas2ri.activate()\n",
    "\n",
    "# import R's \"base\" package\n",
    "base = rpy2.robjects.packages.importr('base')\n",
    "# import R's utility package\n",
    "utils = rpy2.robjects.packages.importr('utils')\n",
    "# select a mirror for R packages\n",
    "utils.chooseCRANmirror(ind=1) # select the first mirror in the list\n",
    "\n",
    "# R package names\n",
    "packnames = ('bnlearn', 'gRain')\n",
    "\n",
    "# R vector of strings\n",
    "\n",
    "# Selectively install what needs to be install.\n",
    "# We are fancy, just because we can.\n",
    "names_to_install = [x for x in packnames if not rpy2.robjects.packages.isinstalled(x)]\n",
    "if len(names_to_install) > 0:\n",
    "    utils.install_packages(rpy2.robjects.StrVector(names_to_install))\n",
    "\n",
    "grdevices   = rpy2.robjects.packages.importr('grDevices')\n",
    "bnlearn     = rpy2.robjects.packages.importr('bnlearn')\n",
    "gRain       = rpy2.robjects.packages.importr('gRain')"
   ]
  },
  {
   "cell_type": "markdown",
   "metadata": {},
   "source": [
    "The test case follows exercise 5.1 from \"Doing Bayesian Data Analysis\" by John K. Kruschke:\n",
    "* https://sites.google.com/site/doingbayesiandataanalysis/exercises\n",
    "* [Kruschke-DBDA2E-ExerciseSolutions.pdf](https://sites.google.com/site/doingbayesiandataanalysis/exercises/Kruschke-DBDA2E-ExerciseSolutions.pdf) p. 17"
   ]
  },
  {
   "cell_type": "code",
   "execution_count": null,
   "metadata": {},
   "outputs": [],
   "source": [
    "p_disease_present = 0.001\n",
    "prior = pd.DataFrame([p_disease_present, 1-p_disease_present], columns=['disease-state'])\n",
    "prior.index = pd.Index(['disease-present', 'disease-absent'])\n",
    "\n",
    "p_test_positive_given_disease_present = 0.99\n",
    "p_test_positive_given_disease_absent = 0.05\n",
    "\n",
    "disease_test_cpd_df = pd.DataFrame([[p_test_positive_given_disease_present, p_test_positive_given_disease_absent],\n",
    "                                    [1 - p_test_positive_given_disease_present, 1 - p_test_positive_given_disease_absent]], columns=['disease-present', 'disease-absent'])\n",
    "disease_test_cpd_df.index = pd.Index(['test-positive', 'test-negative'])\n",
    "\n",
    "posterior = prior['disease-state'].copy()\n",
    "\n",
    "# selected_row = disease_test_cpd_df.loc['test-positive', :]\n",
    "# posterior = selected_row * posterior\n",
    "# posterior = posterior / float(posterior.sum())\n",
    "# posterior['disease-present']\n",
    "\n",
    "for x in ['test-positive', 'test-negative']:\n",
    "    selected_row = disease_test_cpd_df.loc[x,:]\n",
    "    posterior = selected_row * posterior\n",
    "    posterior = posterior / float(posterior.sum())\n"
   ]
  },
  {
   "cell_type": "code",
   "execution_count": null,
   "metadata": {},
   "outputs": [],
   "source": [
    "prior"
   ]
  },
  {
   "cell_type": "code",
   "execution_count": null,
   "metadata": {},
   "outputs": [],
   "source": [
    "disease_test_cpd_df"
   ]
  },
  {
   "cell_type": "code",
   "execution_count": null,
   "metadata": {},
   "outputs": [],
   "source": [
    "posterior"
   ]
  },
  {
   "cell_type": "code",
   "execution_count": null,
   "metadata": {},
   "outputs": [],
   "source": [
    "disease_state_CPD = pgmpy.factors.discrete.TabularCPD(variable='disease-state',\n",
    "                                                      variable_card=2,\n",
    "                                                      values=[[p_disease_present], [1.0 - p_disease_present]])\n",
    "print(disease_state_CPD)"
   ]
  },
  {
   "cell_type": "code",
   "execution_count": null,
   "metadata": {},
   "outputs": [],
   "source": [
    "test_result_CPD_1 = pgmpy.factors.discrete.TabularCPD(\n",
    "     variable='test-result1',\n",
    "     variable_card=2,\n",
    "     values=[[p_test_positive_given_disease_present, p_test_positive_given_disease_absent],\n",
    "             [(1 - p_test_positive_given_disease_present), (1 - p_test_positive_given_disease_absent)]],\n",
    "     evidence=['disease-state'],\n",
    "     evidence_card=[2])\n",
    "print(test_result_CPD_1)"
   ]
  },
  {
   "cell_type": "code",
   "execution_count": null,
   "metadata": {},
   "outputs": [],
   "source": [
    "test_result_CPD_2 = pgmpy.factors.discrete.TabularCPD(\n",
    "     variable='test-result2',\n",
    "     variable_card=2,\n",
    "     values=[[p_test_positive_given_disease_present, p_test_positive_given_disease_absent],\n",
    "             [(1 - p_test_positive_given_disease_present), (1 - p_test_positive_given_disease_absent)]],\n",
    "     evidence=['disease-state'],\n",
    "     evidence_card=[2])\n",
    "print(test_result_CPD_2)"
   ]
  },
  {
   "cell_type": "code",
   "execution_count": null,
   "metadata": {},
   "outputs": [],
   "source": [
    "model = pgmpy.models.BayesianModel()\n",
    "\n",
    "model.add_nodes_from(['disease-state', 'test-result1', 'test-result2'])\n",
    "model.add_edge('disease-state', 'test-result1')\n",
    "model.add_edge('disease-state', 'test-result2')\n",
    "\n",
    "model.add_cpds(disease_state_CPD, test_result_CPD_1, test_result_CPD_2)\n",
    "model.check_model()"
   ]
  },
  {
   "cell_type": "markdown",
   "metadata": {},
   "source": [
    "* [TypeError: object of type 'dict_keyiterator' has no len()](https://github.com/pgmpy/pgmpy/issues/927)"
   ]
  },
  {
   "cell_type": "code",
   "execution_count": null,
   "metadata": {},
   "outputs": [],
   "source": [
    "infr1 = pgmpy.inference.BeliefPropagation(model)\n",
    "evidence = {'test-result1': 0}\n",
    "query_vars = ['disease-state']\n",
    "p_disease = infr1.query(variables=query_vars, evidence=evidence)['disease-state'].values[0]\n",
    "# pprint('{0:f}'.format(p_disease))\n",
    "assert p_disease == pytest.approx(0.01943463, 0.0000001)"
   ]
  },
  {
   "cell_type": "code",
   "execution_count": null,
   "metadata": {},
   "outputs": [],
   "source": [
    "p_disease"
   ]
  },
  {
   "cell_type": "code",
   "execution_count": null,
   "metadata": {},
   "outputs": [],
   "source": [
    "infr2 = pgmpy.inference.VariableElimination(model)\n",
    "p_disease = infr2.query(variables=query_vars, evidence=evidence)['disease-state'].values[0]\n",
    "assert p_disease == pytest.approx(0.01943463, 0.0000001)"
   ]
  },
  {
   "cell_type": "code",
   "execution_count": null,
   "metadata": {},
   "outputs": [],
   "source": [
    "p_disease"
   ]
  }
 ],
 "metadata": {
  "kernelspec": {
   "display_name": "Python 3",
   "language": "python",
   "name": "python3"
  },
  "language_info": {
   "codemirror_mode": {
    "name": "ipython",
    "version": 3
   },
   "file_extension": ".py",
   "mimetype": "text/x-python",
   "name": "python",
   "nbconvert_exporter": "python",
   "pygments_lexer": "ipython3",
   "version": "3.6.4"
  }
 },
 "nbformat": 4,
 "nbformat_minor": 2
}
