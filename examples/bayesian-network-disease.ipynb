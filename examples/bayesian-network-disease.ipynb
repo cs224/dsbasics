{
 "cells": [
  {
   "cell_type": "code",
   "execution_count": null,
   "metadata": {},
   "outputs": [],
   "source": [
    "%load_ext watermark\n",
    "%watermark -a 'Christian Schuhegger' -u -d -v -p numpy,pandas,matplotlib,seaborn,rpy2,libpgm,pgmpy,networkx,graphviz,xarray,dsbasics,pytest\n",
    "#,pygraphviz"
   ]
  },
  {
   "cell_type": "code",
   "execution_count": null,
   "metadata": {},
   "outputs": [],
   "source": [
    "%matplotlib inline\n",
    "import numpy as np, scipy, scipy.stats as stats, pandas as pd, matplotlib.pyplot as plt, seaborn as sns\n",
    "import pgmpy, pgmpy.models, pgmpy.factors.discrete, pgmpy.inference, libpgm, pytest\n",
    "import datetime, time\n",
    "import matplotlib.dates\n",
    "import pytz\n",
    "from dateutil import relativedelta\n",
    "import timeit\n",
    "\n",
    "pd.set_option('display.max_columns', 500)\n",
    "pd.set_option('display.width', 1000)\n",
    "# pd.set_option('display.float_format', lambda x: '%.2f' % x)\n",
    "np.set_printoptions(edgeitems=10)\n",
    "np.set_printoptions(suppress=True)\n",
    "np.core.arrayprint._line_width = 180\n",
    "\n",
    "sns.set()"
   ]
  },
  {
   "cell_type": "code",
   "execution_count": null,
   "metadata": {},
   "outputs": [],
   "source": [
    "from IPython.display import display, HTML\n",
    "\n",
    "from IPython.display import display_html\n",
    "def display_side_by_side(*args):\n",
    "    html_str=''\n",
    "    for df in args:\n",
    "        if type(df) == np.ndarray:\n",
    "            df = pd.DataFrame(df)\n",
    "        html_str+=df.to_html()\n",
    "    html_str = html_str.replace('table','table style=\"display:inline\"')\n",
    "    # print(html_str)\n",
    "    display_html(html_str,raw=True)\n",
    "\n",
    "CSS = \"\"\"\n",
    ".output {\n",
    "    flex-direction: row;\n",
    "}\n",
    "\"\"\"\n",
    "\n",
    "#HTML('<style>{}</style>'.format(CSS))"
   ]
  },
  {
   "cell_type": "code",
   "execution_count": null,
   "metadata": {},
   "outputs": [],
   "source": [
    "from IPython.core.display import display, HTML\n",
    "display(HTML(\"<style>.container { width:70% !important; }</style>\"))"
   ]
  },
  {
   "cell_type": "code",
   "execution_count": null,
   "metadata": {},
   "outputs": [],
   "source": [
    "%load_ext autoreload\n",
    "%autoreload 1\n",
    "%aimport dsbasics.bn"
   ]
  },
  {
   "cell_type": "markdown",
   "metadata": {},
   "source": [
    "* [rpy2](https://rpy2.bitbucket.io/) on bitbucket\n",
    "* [rpy2](https://rpy2.github.io/) on github pages"
   ]
  },
  {
   "cell_type": "markdown",
   "metadata": {},
   "source": [
    "* [bnlearn](http://www.bnlearn.com/)\n",
    "* [manual](http://www.bnlearn.com/documentation/man/)"
   ]
  },
  {
   "cell_type": "code",
   "execution_count": null,
   "metadata": {},
   "outputs": [],
   "source": [
    "import locale\n",
    "locale.setlocale(locale.LC_ALL, 'C')\n",
    "\n",
    "import rpy2, rpy2.rinterface, rpy2.robjects, rpy2.robjects.packages, rpy2.robjects.lib, rpy2.robjects.lib.grid, \\\n",
    "    rpy2.robjects.lib.ggplot2, rpy2.robjects.pandas2ri, rpy2.interactive.process_revents, \\\n",
    "    rpy2.interactive, rpy2.robjects.lib.grdevices\n",
    "# rpy2.interactive.process_revents.start()\n",
    "rpy2.robjects.pandas2ri.activate()\n",
    "\n",
    "# import R's \"base\" package\n",
    "base = rpy2.robjects.packages.importr('base')\n",
    "# import R's utility package\n",
    "utils = rpy2.robjects.packages.importr('utils')\n",
    "# select a mirror for R packages\n",
    "utils.chooseCRANmirror(ind=1) # select the first mirror in the list\n",
    "\n",
    "# R package names\n",
    "packnames = ('bnlearn', 'gRain')\n",
    "\n",
    "# R vector of strings\n",
    "\n",
    "# Selectively install what needs to be install.\n",
    "# We are fancy, just because we can.\n",
    "names_to_install = [x for x in packnames if not rpy2.robjects.packages.isinstalled(x)]\n",
    "if len(names_to_install) > 0:\n",
    "    utils.install_packages(rpy2.robjects.StrVector(names_to_install))\n",
    "\n",
    "grdevices   = rpy2.robjects.packages.importr('grDevices')\n",
    "bnlearn     = rpy2.robjects.packages.importr('bnlearn')\n",
    "gRain       = rpy2.robjects.packages.importr('gRain')"
   ]
  },
  {
   "cell_type": "markdown",
   "metadata": {},
   "source": [
    "The test case follows exercise 5.1 from \"Doing Bayesian Data Analysis\" by John K. Kruschke:\n",
    "* https://sites.google.com/site/doingbayesiandataanalysis/exercises\n",
    "* [Kruschke-DBDA2E-ExerciseSolutions.pdf](https://sites.google.com/site/doingbayesiandataanalysis/exercises/Kruschke-DBDA2E-ExerciseSolutions.pdf) p. 17"
   ]
  },
  {
   "cell_type": "code",
   "execution_count": null,
   "metadata": {},
   "outputs": [],
   "source": [
    "p_disease_present = 0.001\n",
    "prior = pd.DataFrame([p_disease_present, 1-p_disease_present], columns=['disease_state'])\n",
    "prior.index = pd.Index(['disease_present', 'disease_absent'])\n",
    "\n",
    "p_test_positive_given_disease_present = 0.99\n",
    "p_test_positive_given_disease_absent = 0.05\n",
    "\n",
    "disease_test_cpd_df = pd.DataFrame([[p_test_positive_given_disease_present, p_test_positive_given_disease_absent],\n",
    "                                    [1 - p_test_positive_given_disease_present, 1 - p_test_positive_given_disease_absent]], columns=['disease_present', 'disease_absent'])\n",
    "disease_test_cpd_df.index = pd.Index(['test_positive', 'test_negative'])\n",
    "\n",
    "posterior = prior['disease_state'].copy()\n",
    "\n",
    "# selected_row = disease_test_cpd_df.loc['test-positive', :]\n",
    "# posterior = selected_row * posterior\n",
    "# posterior = posterior / float(posterior.sum())\n",
    "# posterior['disease-present']\n",
    "\n",
    "#for x in ['test_positive', 'test_negative']:\n",
    "for x in ['test_positive']:\n",
    "    selected_row = disease_test_cpd_df.loc[x,:]\n",
    "    posterior = selected_row * posterior\n",
    "    posterior = posterior / float(posterior.sum())\n"
   ]
  },
  {
   "cell_type": "code",
   "execution_count": null,
   "metadata": {},
   "outputs": [],
   "source": [
    "prior"
   ]
  },
  {
   "cell_type": "code",
   "execution_count": null,
   "metadata": {},
   "outputs": [],
   "source": [
    "disease_test_cpd_df"
   ]
  },
  {
   "cell_type": "code",
   "execution_count": null,
   "metadata": {},
   "outputs": [],
   "source": [
    "posterior"
   ]
  },
  {
   "cell_type": "code",
   "execution_count": null,
   "metadata": {},
   "outputs": [],
   "source": [
    "disease_state_CPD = pgmpy.factors.discrete.TabularCPD(variable='disease_state',\n",
    "                                                      variable_card=2,\n",
    "                                                      values=[[p_disease_present], [1.0 - p_disease_present]])\n",
    "print(disease_state_CPD)"
   ]
  },
  {
   "cell_type": "code",
   "execution_count": null,
   "metadata": {},
   "outputs": [],
   "source": [
    "test_result_CPD_1 = pgmpy.factors.discrete.TabularCPD(\n",
    "     variable='test_result1',\n",
    "     variable_card=2,\n",
    "     values=[[p_test_positive_given_disease_present, p_test_positive_given_disease_absent],\n",
    "             [(1 - p_test_positive_given_disease_present), (1 - p_test_positive_given_disease_absent)]],\n",
    "     evidence=['disease_state'],\n",
    "     evidence_card=[2])\n",
    "print(test_result_CPD_1)"
   ]
  },
  {
   "cell_type": "code",
   "execution_count": null,
   "metadata": {},
   "outputs": [],
   "source": [
    "test_result_CPD_2 = pgmpy.factors.discrete.TabularCPD(\n",
    "     variable='test_result2',\n",
    "     variable_card=2,\n",
    "     values=[[p_test_positive_given_disease_present, p_test_positive_given_disease_absent],\n",
    "             [(1 - p_test_positive_given_disease_present), (1 - p_test_positive_given_disease_absent)]],\n",
    "     evidence=['disease_state'],\n",
    "     evidence_card=[2])\n",
    "print(test_result_CPD_2)"
   ]
  },
  {
   "cell_type": "code",
   "execution_count": null,
   "metadata": {},
   "outputs": [],
   "source": [
    "model = pgmpy.models.BayesianModel()\n",
    "\n",
    "model.add_nodes_from(['disease_state', 'test_result1', 'test_result2'])\n",
    "model.add_edge('disease_state', 'test_result1')\n",
    "model.add_edge('disease_state', 'test_result2')\n",
    "\n",
    "model.add_cpds(disease_state_CPD, test_result_CPD_1, test_result_CPD_2)\n",
    "model.check_model()"
   ]
  },
  {
   "cell_type": "markdown",
   "metadata": {},
   "source": [
    "* [TypeError: object of type 'dict_keyiterator' has no len()](https://github.com/pgmpy/pgmpy/issues/927)"
   ]
  },
  {
   "cell_type": "code",
   "execution_count": null,
   "metadata": {},
   "outputs": [],
   "source": [
    "# infr1 = pgmpy.inference.BeliefPropagation(model)\n",
    "# evidence = {'test_result1': 0}\n",
    "# query_vars = ['disease_state']\n",
    "# p_disease = infr1.query(variables=query_vars, evidence=evidence)['disease_state'].values[0]\n",
    "# # pprint('{0:f}'.format(p_disease))\n",
    "# assert p_disease == pytest.approx(0.01943463, 0.0000001)"
   ]
  },
  {
   "cell_type": "code",
   "execution_count": null,
   "metadata": {},
   "outputs": [],
   "source": [
    "# p_disease"
   ]
  },
  {
   "cell_type": "code",
   "execution_count": null,
   "metadata": {},
   "outputs": [],
   "source": [
    "# infr2 = pgmpy.inference.VariableElimination(model)\n",
    "# p_disease = infr2.query(variables=query_vars, evidence=evidence)['disease_state'].values[0]\n",
    "# assert p_disease == pytest.approx(0.01943463, 0.0000001)"
   ]
  },
  {
   "cell_type": "code",
   "execution_count": null,
   "metadata": {},
   "outputs": [],
   "source": [
    "# p_disease"
   ]
  },
  {
   "cell_type": "code",
   "execution_count": null,
   "metadata": {},
   "outputs": [],
   "source": [
    "df_disease_state_pm_table = pd.DataFrame(\n",
    "    [\n",
    "        ['T',  p_disease_present], \n",
    "        ['F', 1-p_disease_present], \n",
    "    ],columns=['disease_present','p'])\n",
    "df_disease_state_pm_table"
   ]
  },
  {
   "cell_type": "code",
   "execution_count": null,
   "metadata": {},
   "outputs": [],
   "source": [
    "df_test_when_disease_cpm_table = pd.DataFrame(\n",
    "    [\n",
    "        ['T', 'T', p_test_positive_given_disease_present],\n",
    "        ['T', 'F', 1- p_test_positive_given_disease_present],\n",
    "        ['F', 'T', p_test_positive_given_disease_absent],\n",
    "        ['F', 'F', 1- p_test_positive_given_disease_absent],\n",
    "    ],columns=['disease_present','test_result','p']\n",
    ")\n",
    "df_test_when_disease_cpm_table"
   ]
  },
  {
   "cell_type": "code",
   "execution_count": null,
   "metadata": {},
   "outputs": [],
   "source": [
    "import qgrid,itertools"
   ]
  },
  {
   "cell_type": "markdown",
   "metadata": {},
   "source": [
    "* [pd.Categorical](https://pandas.pydata.org/pandas-docs/version/0.22.0/categorical.html)"
   ]
  },
  {
   "cell_type": "code",
   "execution_count": null,
   "metadata": {},
   "outputs": [],
   "source": [
    "# disease_present = pd.Categorical(['F', 'T'], categories=['F', 'T'], ordered=True)\n",
    "disease_present = pd.Categorical([], categories=['F', 'T'], ordered=True)\n",
    "disease_present"
   ]
  },
  {
   "cell_type": "code",
   "execution_count": null,
   "metadata": {},
   "outputs": [],
   "source": [
    "test_result = pd.Categorical([], categories=['F', 'T'], ordered=True)\n",
    "test_result"
   ]
  },
  {
   "cell_type": "code",
   "execution_count": null,
   "metadata": {},
   "outputs": [],
   "source": [
    "dp_tr_product = list(itertools.product(list(disease_present.categories),list(test_result.categories)))\n",
    "dp_tr_product"
   ]
  },
  {
   "cell_type": "code",
   "execution_count": null,
   "metadata": {},
   "outputs": [],
   "source": [
    "df_tmp = pd.DataFrame(dp_tr_product, columns=['disease_present', 'test_result'])\n",
    "df_tmp['p'] = np.nan\n",
    "qgrid_widget = qgrid.show_grid(df_tmp, show_toolbar=True)\n",
    "qgrid_widget"
   ]
  },
  {
   "cell_type": "code",
   "execution_count": null,
   "metadata": {},
   "outputs": [],
   "source": [
    "qgrid_widget.get_changed_df().head()"
   ]
  },
  {
   "cell_type": "code",
   "execution_count": null,
   "metadata": {},
   "outputs": [],
   "source": [
    "# df_test_when_disease_cpm_table.pivot_table(index   = ['disease-present'], \n",
    "#                                            columns = ['test-result'],\n",
    "#                                            values  = 'p')\n",
    "df_test_when_disease_cpm_table.pivot_table(index   = list(df_test_when_disease_cpm_table.columns[:-2]), \n",
    "                                           columns = list(df_test_when_disease_cpm_table.columns[-2:-1]),\n",
    "                                           values  = df_test_when_disease_cpm_table.columns[-1])\n",
    "# df_test_when_disease_cpm_table.columns[-1]"
   ]
  },
  {
   "cell_type": "markdown",
   "metadata": {},
   "source": [
    "* [networkx](https://github.com/networkx/networkx)\n",
    "* [tutorial](https://networkx.github.io/documentation/stable/tutorial.html)"
   ]
  },
  {
   "cell_type": "code",
   "execution_count": null,
   "metadata": {},
   "outputs": [],
   "source": [
    "import networkx as nx"
   ]
  },
  {
   "cell_type": "code",
   "execution_count": null,
   "metadata": {},
   "outputs": [],
   "source": [
    "dg = nx.DiGraph()\n",
    "# G.add_node(1)\n",
    "dg.add_nodes_from(list(df_test_when_disease_cpm_table.columns[:-1]))\n",
    "dg.add_edges_from([\n",
    "    list(df_test_when_disease_cpm_table.columns[:-1]),\n",
    "])"
   ]
  },
  {
   "cell_type": "code",
   "execution_count": null,
   "metadata": {},
   "outputs": [],
   "source": [
    "list(nx.connected_components(dg.to_undirected()))"
   ]
  },
  {
   "cell_type": "code",
   "execution_count": null,
   "metadata": {},
   "outputs": [],
   "source": [
    "nx.draw(dg, with_labels=True)"
   ]
  },
  {
   "cell_type": "code",
   "execution_count": null,
   "metadata": {},
   "outputs": [],
   "source": [
    "# pos = nx.nx_agraph.graphviz_layout(dg)\n",
    "# nx.draw(dg, with_labels=True, pos=pos)"
   ]
  },
  {
   "cell_type": "code",
   "execution_count": null,
   "metadata": {},
   "outputs": [],
   "source": [
    "list(dg.nodes())"
   ]
  },
  {
   "cell_type": "code",
   "execution_count": null,
   "metadata": {},
   "outputs": [],
   "source": [
    "list(dg.edges())"
   ]
  },
  {
   "cell_type": "markdown",
   "metadata": {},
   "source": [
    "* [graphviz](https://github.com/xflr6/graphviz)\n",
    "* [graphviz.readthedocs](https://graphviz.readthedocs.io/en/stable/)\n",
    "* [examples/notebook.ipynb](https://github.com/xflr6/graphviz/blob/master/examples/notebook.ipynb)"
   ]
  },
  {
   "cell_type": "code",
   "execution_count": null,
   "metadata": {},
   "outputs": [],
   "source": [
    "import graphviz"
   ]
  },
  {
   "cell_type": "code",
   "execution_count": null,
   "metadata": {},
   "outputs": [],
   "source": [
    "dot = graphviz.Digraph(comment='The Round Table')"
   ]
  },
  {
   "cell_type": "code",
   "execution_count": null,
   "metadata": {},
   "outputs": [],
   "source": [
    "dot.node('A', 'King Arthur')\n",
    "dot.node('B', 'Sir Bedevere the Wise')\n",
    "dot.node('L', 'Sir Lancelot the Brave')\n",
    "\n",
    "dot.edges(['AB', 'AL'])\n",
    "dot.edge('B', 'L', constraint='false')"
   ]
  },
  {
   "cell_type": "code",
   "execution_count": null,
   "metadata": {},
   "outputs": [],
   "source": [
    "dot"
   ]
  },
  {
   "cell_type": "code",
   "execution_count": null,
   "metadata": {},
   "outputs": [],
   "source": [
    "dg_dot = graphviz.Digraph(comment='disease-network')\n",
    "for node in dg.nodes():\n",
    "    dg_dot.node(node)\n",
    "\n",
    "for edge in dg.edges():\n",
    "    dg_dot.edge(edge[0],edge[1])\n",
    "\n",
    "dg_dot"
   ]
  },
  {
   "cell_type": "markdown",
   "metadata": {},
   "source": [
    "* [xarray](https://xarray.pydata.org/en/stable/)\n",
    "* [xArray_seminar](http://meteo.unican.es/work/xarray_seminar/xArray_seminar.html)"
   ]
  },
  {
   "cell_type": "code",
   "execution_count": null,
   "metadata": {},
   "outputs": [],
   "source": [
    "import xarray as xr"
   ]
  },
  {
   "cell_type": "code",
   "execution_count": null,
   "metadata": {},
   "outputs": [],
   "source": [
    "df_test_when_disease_cpm_table"
   ]
  },
  {
   "cell_type": "code",
   "execution_count": null,
   "metadata": {},
   "outputs": [],
   "source": [
    "df_test_when_disease_cpm_xr = xr.DataArray(\n",
    "    [\n",
    "        [0.95, 0.05],\n",
    "        [0.01, 0.99],\n",
    "    ], \n",
    "    coords={'disease_present': ['F', 'T'], 'test_result': ['F', 'T']}, \n",
    "    dims=('disease_present', 'test_result'))\n",
    "df_test_when_disease_cpm_xr"
   ]
  },
  {
   "cell_type": "code",
   "execution_count": null,
   "metadata": {},
   "outputs": [],
   "source": [
    "df_test_when_disease_cpm_xr.loc['F', 'T']"
   ]
  },
  {
   "cell_type": "code",
   "execution_count": null,
   "metadata": {},
   "outputs": [],
   "source": [
    "df_test_when_disease_cpm_xr.loc[{'disease_present': 'F', 'test_result': 'T'}]"
   ]
  },
  {
   "cell_type": "code",
   "execution_count": null,
   "metadata": {},
   "outputs": [],
   "source": [
    "df_test_when_disease_cpm_xr.loc[{'disease_present': 'F', 'test_result': 'F'}]"
   ]
  },
  {
   "cell_type": "code",
   "execution_count": null,
   "metadata": {},
   "outputs": [],
   "source": [
    "df_test_when_disease_cpm_xr.loc[{'disease_present': 'T', 'test_result': 'T'}]"
   ]
  },
  {
   "cell_type": "code",
   "execution_count": null,
   "metadata": {},
   "outputs": [],
   "source": [
    "df_test_when_disease_cpm_xr.loc[{'disease_present': 'T', 'test_result': 'F'}]"
   ]
  },
  {
   "cell_type": "code",
   "execution_count": null,
   "metadata": {},
   "outputs": [],
   "source": [
    "df_test_when_disease_cpm_xr.to_dataframe(name='p').reset_index()"
   ]
  },
  {
   "cell_type": "code",
   "execution_count": null,
   "metadata": {},
   "outputs": [],
   "source": [
    "df_test_when_disease_cpm_table.to_xarray()"
   ]
  },
  {
   "cell_type": "code",
   "execution_count": null,
   "metadata": {},
   "outputs": [],
   "source": [
    "pvalue_array = df_test_when_disease_cpm_table.groupby(['disease_present', 'test_result']).max().to_xarray().p.values\n",
    "pvalue_array"
   ]
  },
  {
   "cell_type": "code",
   "execution_count": null,
   "metadata": {},
   "outputs": [],
   "source": [
    "df_test_when_disease_cpm_xr"
   ]
  },
  {
   "cell_type": "code",
   "execution_count": null,
   "metadata": {},
   "outputs": [],
   "source": [
    "%load_ext rpy2.ipython"
   ]
  },
  {
   "cell_type": "markdown",
   "metadata": {},
   "source": [
    "* R [gl](https://www.rdocumentation.org/packages/base/versions/3.5.0/topics/gl) Generate Factor Levels"
   ]
  },
  {
   "cell_type": "code",
   "execution_count": null,
   "metadata": {
    "scrolled": true
   },
   "outputs": [],
   "source": [
    "%%R\n",
    "dni3 <- dimnames(iris3)\n",
    "print(dni3)\n",
    "ii <- data.frame(matrix(aperm(iris3, c(1,3,2)), \n",
    "                        ncol = 4, \n",
    "                        dimnames = list(NULL, sub(\" L.\",\".Length\", sub(\" W.\",\".Width\", dni3[[2]])))),\n",
    "                 Species = gl(3, 50, labels = sub(\"S\", \"s\", sub(\"V\", \"v\", dni3[[3]]))))\n",
    "print(typeof(ii))\n",
    "all.equal(ii, iris) # TRUE"
   ]
  },
  {
   "cell_type": "code",
   "execution_count": null,
   "metadata": {},
   "outputs": [],
   "source": [
    "# import os\n",
    "# os.environ['EDITOR']"
   ]
  },
  {
   "cell_type": "code",
   "execution_count": null,
   "metadata": {},
   "outputs": [],
   "source": [
    "# %%R\n",
    "# print(?lm)"
   ]
  },
  {
   "cell_type": "code",
   "execution_count": null,
   "metadata": {},
   "outputs": [],
   "source": [
    "# %%R\n",
    "# iris3"
   ]
  },
  {
   "cell_type": "code",
   "execution_count": null,
   "metadata": {},
   "outputs": [],
   "source": [
    "# %%R\n",
    "# iris"
   ]
  },
  {
   "cell_type": "code",
   "execution_count": null,
   "metadata": {},
   "outputs": [],
   "source": [
    "# %%R\n",
    "# aperm(iris3, c(1,3,2))"
   ]
  },
  {
   "cell_type": "code",
   "execution_count": null,
   "metadata": {},
   "outputs": [],
   "source": [
    "# %%R\n",
    "# sub(\" L.\",\".Length\", sub(\" W.\",\".Width\", dni3[[2]]))"
   ]
  },
  {
   "cell_type": "code",
   "execution_count": null,
   "metadata": {},
   "outputs": [],
   "source": [
    "# %%R\n",
    "# list(NULL, sub(\" L.\",\".Length\", sub(\" W.\",\".Width\", dni3[[2]])))"
   ]
  },
  {
   "cell_type": "code",
   "execution_count": null,
   "metadata": {},
   "outputs": [],
   "source": [
    "# %%R\n",
    "# matrix(aperm(iris3, c(1,3,2)),\n",
    "#        ncol = 4,\n",
    "#        dimnames = list(NULL, sub(\" L.\",\".Length\", sub(\" W.\",\".Width\", dni3[[2]]))))"
   ]
  },
  {
   "cell_type": "code",
   "execution_count": null,
   "metadata": {},
   "outputs": [],
   "source": [
    "%%R -i df_test_when_disease_cpm_table\n",
    "# print(typeof(df_test_when_disease_cpm_table))\n",
    "# print(typeof(df_test_when_disease_cpm_table[1]))\n",
    "# print(df_test_when_disease_cpm_table[1])\n",
    "# print(df_test_when_disease_cpm_table[2])\n",
    "df_test_when_disease_cpm_table"
   ]
  },
  {
   "cell_type": "code",
   "execution_count": null,
   "metadata": {},
   "outputs": [],
   "source": [
    "%%R -i pvalue_array\n",
    "pvalue_array"
   ]
  },
  {
   "cell_type": "markdown",
   "metadata": {},
   "source": [
    "* [ENH: Mosaic plot and DataArray](https://github.com/pydata/xarray/issues/779)"
   ]
  },
  {
   "cell_type": "code",
   "execution_count": null,
   "metadata": {},
   "outputs": [],
   "source": [
    "# %%R -i df_test_when_disease_cpm_xr\n",
    "# df_test_when_disease_cpm_xr"
   ]
  },
  {
   "cell_type": "code",
   "execution_count": null,
   "metadata": {},
   "outputs": [],
   "source": [
    "# cptSprinkler = matrix(c(0.4, 0.6, 0.01, 0.99), ncol = 2, dimnames = list(\"RAIN\" = c(\"F\",\"T\"), \"SPRINKLER\" = c(\"T\", \"F\")), byrow = TRUE)\n",
    "# cptSprinkler\n",
    "\n",
    "# cptGrassWet = array(c(0.0, 1.0, 0.8, 0.2, 0.9, 0.1, 0.99, 0.01), dim=c(2, 2, 2))\n",
    "# cptGrassWet = aperm(cptGrassWet, perm=c(3,2,1))\n",
    "# dimnames(cptGrassWet) = list(\"GRASSWET\" = c(\"T\", \"F\"), \"RAIN\" =  c(\"F\", \"T\"), \"SPRINKLER\" = c(\"F\", \"T\"))\n"
   ]
  },
  {
   "cell_type": "code",
   "execution_count": null,
   "metadata": {},
   "outputs": [],
   "source": [
    "rpy2.robjects.r['pi']"
   ]
  },
  {
   "cell_type": "code",
   "execution_count": null,
   "metadata": {},
   "outputs": [],
   "source": [
    "v = rpy2.robjects.FloatVector([1.1, 2.2, 3.3, 4.4, 5.5, 6.6])\n",
    "m = rpy2.robjects.r['matrix'](v, nrow = 2)\n",
    "rpy2.robjects.globalenv[\"mR\"] = m\n",
    "m"
   ]
  },
  {
   "cell_type": "code",
   "execution_count": null,
   "metadata": {},
   "outputs": [],
   "source": [
    "%%R\n",
    "mR"
   ]
  },
  {
   "cell_type": "code",
   "execution_count": null,
   "metadata": {},
   "outputs": [],
   "source": [
    "df_test_when_disease_cpm_table"
   ]
  },
  {
   "cell_type": "code",
   "execution_count": null,
   "metadata": {},
   "outputs": [],
   "source": [
    "def cpt_to_r(lcpm_df):\n",
    "    lcpd_ds = lcpm_df.groupby(list(lcpm_df.columns[:-1])).max() # .to_xarray().p.values\n",
    "    lcpd_xds = lcpd_ds.to_xarray()\n",
    "    var_name = list(lcpd_xds.data_vars.keys())[0]\n",
    "    lcpd_xr = lcpd_xds[var_name]\n",
    "    \n",
    "    # the array itself:\n",
    "    nparray = np.array(lcpd_xr)\n",
    "\n",
    "    # the dim shape\n",
    "    dim_shape = lcpd_xr.shape\n",
    "    rdim_shape = rpy2.robjects.IntVector(dim_shape)\n",
    "    \n",
    "    # the dimnames\n",
    "    dim_name_values_pair = {}\n",
    "    dim_names = lcpd_xr.dims\n",
    "    for dim_name in dim_names:\n",
    "        dim = lcpd_xr.coords[dim_name]\n",
    "        dim_values = [str(dv) for dv in dim.values]\n",
    "        dim_name_values_pair.update({dim_name: rpy2.robjects.StrVector(dim_values)})\n",
    "    \n",
    "    # now create the R array\n",
    "    rarray = rpy2.robjects.r['array'](\n",
    "        nparray, \n",
    "        dim=rdim_shape, \n",
    "        dimnames=rpy2.robjects.r['list'](**dim_name_values_pair)\n",
    "    )\n",
    "    return rarray"
   ]
  },
  {
   "cell_type": "code",
   "execution_count": null,
   "metadata": {},
   "outputs": [],
   "source": [
    "dtcpm_test_when_disease = dsbasics.bn.DiscreteTabularCPM(df_test_when_disease_cpm_table)\n",
    "dtcpm_test_when_disease"
   ]
  },
  {
   "cell_type": "code",
   "execution_count": null,
   "metadata": {},
   "outputs": [],
   "source": [
    "dtcpm_test_when_disease.lcpm_xr.dims"
   ]
  },
  {
   "cell_type": "code",
   "execution_count": null,
   "metadata": {},
   "outputs": [],
   "source": [
    "dtcpm_test_when_disease.rarray"
   ]
  },
  {
   "cell_type": "code",
   "execution_count": null,
   "metadata": {},
   "outputs": [],
   "source": [
    "dtcpm_test_when_disease.model_string"
   ]
  },
  {
   "cell_type": "code",
   "execution_count": null,
   "metadata": {},
   "outputs": [],
   "source": [
    "dtcpm_test_when_disease_nt = dsbasics.bn.DiscreteTabularCPM(df_test_when_disease_cpm_table, transform=False)\n",
    "dtcpm_test_when_disease_nt"
   ]
  },
  {
   "cell_type": "code",
   "execution_count": null,
   "metadata": {},
   "outputs": [],
   "source": [
    "dtcpm_test_when_disease_nt.lcpm_xr.dims"
   ]
  },
  {
   "cell_type": "code",
   "execution_count": null,
   "metadata": {},
   "outputs": [],
   "source": [
    "rpy2.robjects.globalenv[\"dtcpm_test_when_disease_array\"] = dtcpm_test_when_disease.rarray\n",
    "rpy2.robjects.globalenv[\"dtcpm_test_when_disease_array_nt\"] = dtcpm_test_when_disease_nt.rarray"
   ]
  },
  {
   "cell_type": "code",
   "execution_count": null,
   "metadata": {},
   "outputs": [],
   "source": [
    "%%R \n",
    "print(dtcpm_test_when_disease_array)\n",
    "print(dtcpm_test_when_disease_array_nt)"
   ]
  },
  {
   "cell_type": "code",
   "execution_count": null,
   "metadata": {},
   "outputs": [],
   "source": [
    "dbn_disease = dsbasics.bn.DiscreteBayesNetwork([df_test_when_disease_cpm_table, df_disease_state_pm_table])"
   ]
  },
  {
   "cell_type": "code",
   "execution_count": null,
   "metadata": {},
   "outputs": [],
   "source": [
    "dbn_disease.model_string"
   ]
  },
  {
   "cell_type": "code",
   "execution_count": null,
   "metadata": {},
   "outputs": [],
   "source": [
    "print(dbn_disease.rnet)"
   ]
  },
  {
   "cell_type": "code",
   "execution_count": null,
   "metadata": {},
   "outputs": [],
   "source": [
    "rpy2.robjects.globalenv[\"mR\"] = cpt_to_r(df_test_when_disease_cpm_table)\n",
    "rpy2.robjects.globalenv[\"mR\"]"
   ]
  },
  {
   "cell_type": "code",
   "execution_count": null,
   "metadata": {},
   "outputs": [],
   "source": [
    "%%R\n",
    "t(mR)"
   ]
  },
  {
   "cell_type": "code",
   "execution_count": null,
   "metadata": {},
   "outputs": [],
   "source": [
    "rpy2.robjects.globalenv[\"mR2\"] = cpt_to_r(df_disease_state_pm_table)\n",
    "rpy2.robjects.globalenv[\"mR2\"]"
   ]
  },
  {
   "cell_type": "code",
   "execution_count": null,
   "metadata": {},
   "outputs": [],
   "source": [
    "%%R\n",
    "mR2"
   ]
  },
  {
   "cell_type": "code",
   "execution_count": null,
   "metadata": {},
   "outputs": [],
   "source": [
    "%%R\n",
    "net = model2network(\"[disease_present][test_result|disease_present]\")\n",
    "#net = model2network(\"[RAIN][SPRINKLER|RAIN]\")\n",
    "net"
   ]
  },
  {
   "cell_type": "code",
   "execution_count": null,
   "metadata": {},
   "outputs": [],
   "source": [
    "%%R\n",
    "dfit = custom.fit(net, dist = list(\"disease_present\" = mR2, \"test_result\" = t(mR)))\n",
    "dfit"
   ]
  },
  {
   "cell_type": "code",
   "execution_count": null,
   "metadata": {},
   "outputs": [],
   "source": [
    "%%R\n",
    "jtree = compile(as.grain(dfit))\n",
    "jtree"
   ]
  },
  {
   "cell_type": "code",
   "execution_count": null,
   "metadata": {
    "scrolled": true
   },
   "outputs": [],
   "source": [
    "%%R\n",
    "querygrain(jtree, nodes=c(\"disease_present\", \"test_result\"), type=\"marginal\")"
   ]
  },
  {
   "cell_type": "code",
   "execution_count": null,
   "metadata": {},
   "outputs": [],
   "source": [
    "%%R\n",
    "jprop = setFinding(jtree, nodes = \"test_result\", state=\"T\")\n",
    "jprop"
   ]
  },
  {
   "cell_type": "code",
   "execution_count": null,
   "metadata": {},
   "outputs": [],
   "source": [
    "%%R\n",
    "querygrain(jprop, nodes=c(\"disease_present\"))#$GRASSWET\n",
    "#jprop"
   ]
  },
  {
   "cell_type": "code",
   "execution_count": null,
   "metadata": {},
   "outputs": [],
   "source": [
    "%%R\n",
    "new.cpt = matrix(c(0.1, 0.2, 0.3, 0.2, 0.5, 0.6, 0.7, 0.3, 0.1), byrow = TRUE, ncol = 3, dimnames = list(B = c(\"a\", \"b\", \"c\"), A = c(\"a\", \"b\", \"c\")))\n",
    "new.cpt"
   ]
  },
  {
   "cell_type": "code",
   "execution_count": null,
   "metadata": {},
   "outputs": [],
   "source": [
    "%%R\n",
    "as.table(new.cpt)"
   ]
  },
  {
   "cell_type": "markdown",
   "metadata": {},
   "source": [
    "* [memory-layout-of-multi-dimensional-arrays](https://eli.thegreenplace.net/2015/memory-layout-of-multi-dimensional-arrays)\n",
    "* [Arrays in R and Python](https://rstudio.github.io/reticulate/articles/arrays.html)\n",
    "* numpy [reshape](https://docs.scipy.org/doc/numpy/reference/generated/numpy.reshape.html) documentation and its 'C' and 'F' parameter"
   ]
  },
  {
   "cell_type": "code",
   "execution_count": null,
   "metadata": {},
   "outputs": [],
   "source": [
    "np_order_test = np.reshape(np.array(range(8)), (2,2,2), order='C') # order = 'C' vs. 'F'\n",
    "np_order_test"
   ]
  },
  {
   "cell_type": "code",
   "execution_count": null,
   "metadata": {},
   "outputs": [],
   "source": [
    "rpy2.robjects.globalenv[\"np_order_test\"] = np_order_test"
   ]
  },
  {
   "cell_type": "code",
   "execution_count": null,
   "metadata": {},
   "outputs": [],
   "source": [
    "%%R\n",
    "print(np_order_test)\n",
    "print(array(c(0:7),dim=c(2,2,2)))"
   ]
  },
  {
   "cell_type": "code",
   "execution_count": null,
   "metadata": {},
   "outputs": [],
   "source": [
    "np_order_test2 = np.reshape(np_order_test.reshape(-1), np_order_test.shape, order='F')\n",
    "np_order_test2"
   ]
  },
  {
   "cell_type": "code",
   "execution_count": null,
   "metadata": {},
   "outputs": [],
   "source": [
    "rpy2.robjects.globalenv[\"np_order_test2\"] = np_order_test2"
   ]
  },
  {
   "cell_type": "code",
   "execution_count": null,
   "metadata": {},
   "outputs": [],
   "source": [
    "%%R\n",
    "print(np_order_test2)\n",
    "print(array(c(0:7),dim=c(2,2,2)))"
   ]
  },
  {
   "cell_type": "code",
   "execution_count": null,
   "metadata": {},
   "outputs": [],
   "source": [
    "np_order_test.transpose()"
   ]
  },
  {
   "cell_type": "code",
   "execution_count": null,
   "metadata": {},
   "outputs": [],
   "source": [
    "rpy2.robjects.globalenv[\"np_order_test3\"] = np_order_test.transpose()"
   ]
  },
  {
   "cell_type": "code",
   "execution_count": null,
   "metadata": {},
   "outputs": [],
   "source": [
    "%%R\n",
    "print(np_order_test3)\n",
    "print(array(c(0:7),dim=c(2,2,2)))"
   ]
  },
  {
   "cell_type": "code",
   "execution_count": null,
   "metadata": {},
   "outputs": [],
   "source": [
    "xr_order_test = xr.DataArray(np_order_test, coords={'a': ['F', 'T'], 'b': ['f', 't'], 'c': ['y', 'n']}, dims=('a','b','c'))\n",
    "xr_order_test"
   ]
  },
  {
   "cell_type": "code",
   "execution_count": null,
   "metadata": {},
   "outputs": [],
   "source": [
    "xr_order_test.transpose(*('c','a','b'))"
   ]
  },
  {
   "cell_type": "code",
   "execution_count": null,
   "metadata": {},
   "outputs": [],
   "source": [
    "old_dims = xr_order_test.dims\n",
    "new_dims = old_dims[-1:] + old_dims[:-1]\n",
    "new_dims\n",
    "xr_order_test.transpose(*new_dims)"
   ]
  },
  {
   "cell_type": "code",
   "execution_count": null,
   "metadata": {},
   "outputs": [],
   "source": [
    "xr_order_test"
   ]
  },
  {
   "cell_type": "code",
   "execution_count": null,
   "metadata": {},
   "outputs": [],
   "source": [
    "tmp = np.reshape(np_order_test.reshape(-1),np_order_test.shape,order='F')\n",
    "xr_order_test2 = xr.DataArray(tmp, coords={'a': ['F', 'T'], 'b': ['f', 't'], 'c': ['y', 'n']}, dims=('a','b','c'))\n",
    "xr_order_test2"
   ]
  },
  {
   "cell_type": "code",
   "execution_count": null,
   "metadata": {},
   "outputs": [],
   "source": [
    "old_dims = xr_order_test2.dims\n",
    "new_dims = old_dims[-1:] + old_dims[:-1]\n",
    "new_dims\n",
    "xr_order_test3 = xr_order_test2.transpose(*new_dims)\n",
    "xr_order_test3"
   ]
  },
  {
   "cell_type": "code",
   "execution_count": null,
   "metadata": {},
   "outputs": [],
   "source": [
    "rpy2.robjects.globalenv[\"xr_order_test3\"] = xr_order_test3.values"
   ]
  },
  {
   "cell_type": "code",
   "execution_count": null,
   "metadata": {},
   "outputs": [],
   "source": [
    "%%R\n",
    "print(xr_order_test3)\n",
    "#print(array(c(0:7),dim=c(2,2,2)))\n",
    "print(aperm(array(c(0:7),dim=c(2,2,2)),c(3,1,2)))"
   ]
  },
  {
   "cell_type": "code",
   "execution_count": null,
   "metadata": {},
   "outputs": [],
   "source": [
    "xr_order_test.loc[dict(a='F',b='f',c='n')]"
   ]
  },
  {
   "cell_type": "code",
   "execution_count": null,
   "metadata": {},
   "outputs": [],
   "source": [
    "xr_order_test2.loc[dict(a='F',b='f',c='n')]"
   ]
  },
  {
   "cell_type": "code",
   "execution_count": null,
   "metadata": {
    "scrolled": true
   },
   "outputs": [],
   "source": [
    "xr_order_test3.loc[dict(a='F',b='f',c='n')]"
   ]
  },
  {
   "cell_type": "markdown",
   "metadata": {},
   "source": [
    "![rain-sprinkler-grass](https://i.stack.imgur.com/yc2qx.png)"
   ]
  },
  {
   "cell_type": "code",
   "execution_count": null,
   "metadata": {},
   "outputs": [],
   "source": [
    "df_rain_pm = pd.DataFrame(\n",
    "    [\n",
    "        ['T', 0.2],\n",
    "        ['F', 0.8],\n",
    "    ],columns=['rain','p']\n",
    ")\n",
    "df_rain_pm"
   ]
  },
  {
   "cell_type": "code",
   "execution_count": null,
   "metadata": {},
   "outputs": [],
   "source": [
    "df_sprinkler_cpm = pd.DataFrame(\n",
    "    [\n",
    "        ['F','F', 0.6],\n",
    "        ['F','T', 0.4],\n",
    "        ['T','F', 0.99],\n",
    "        ['T','T', 0.01],\n",
    "    ],columns=['rain','sprinkler','p']\n",
    ")\n",
    "df_sprinkler_cpm"
   ]
  },
  {
   "cell_type": "code",
   "execution_count": null,
   "metadata": {},
   "outputs": [],
   "source": [
    "df_grasswet_cpm = pd.DataFrame(\n",
    "    [\n",
    "        ['F','F','F',1.0],\n",
    "        ['F','F','T',0.0],\n",
    "        ['F','T','F',0.2],\n",
    "        ['F','T','T',0.8],\n",
    "\n",
    "        ['T','F','F',0.1],\n",
    "        ['T','F','T',0.9],\n",
    "        ['T','T','F',0.01],\n",
    "        ['T','T','T',0.99],\n",
    "    ],columns=['sprinkler','rain','grasswet','p']\n",
    ")\n",
    "df_grasswet_cpm"
   ]
  },
  {
   "cell_type": "code",
   "execution_count": null,
   "metadata": {},
   "outputs": [],
   "source": [
    "df_grasswet_cpm.pivot_table(index=['rain','sprinkler'],columns=['grasswet'],values=['p']).reset_index()"
   ]
  },
  {
   "cell_type": "code",
   "execution_count": null,
   "metadata": {},
   "outputs": [],
   "source": [
    "dtcpm_grasswet    = dsbasics.bn.DiscreteTabularCPM(df_grasswet_cpm)\n",
    "dtcpm_grasswet_nt = dsbasics.bn.DiscreteTabularCPM(df_grasswet_cpm,transform=False)\n",
    "dtcpm_grasswet"
   ]
  },
  {
   "cell_type": "code",
   "execution_count": null,
   "metadata": {},
   "outputs": [],
   "source": [
    "list(dtcpm_grasswet.parents)"
   ]
  },
  {
   "cell_type": "code",
   "execution_count": null,
   "metadata": {},
   "outputs": [],
   "source": [
    "dtcpm_grasswet.to_cpm_table()"
   ]
  },
  {
   "cell_type": "code",
   "execution_count": null,
   "metadata": {},
   "outputs": [],
   "source": [
    "dtcpm_grasswet.lcpm_xr.dims"
   ]
  },
  {
   "cell_type": "code",
   "execution_count": null,
   "metadata": {},
   "outputs": [],
   "source": [
    "dtcpm_grasswet.lcpm_xr.loc[dict(rain='F',sprinkler='T')]"
   ]
  },
  {
   "cell_type": "code",
   "execution_count": null,
   "metadata": {},
   "outputs": [],
   "source": [
    "dtcpm_grasswet.model_string"
   ]
  },
  {
   "cell_type": "code",
   "execution_count": null,
   "metadata": {},
   "outputs": [],
   "source": [
    "rpy2.robjects.globalenv[\"dtcpm_grasswet_array\"] = dtcpm_grasswet.rarray\n",
    "rpy2.robjects.globalenv[\"dtcpm_grasswet_array_nt\"] = dtcpm_grasswet_nt.rarray"
   ]
  },
  {
   "cell_type": "code",
   "execution_count": null,
   "metadata": {},
   "outputs": [],
   "source": [
    "%%R\n",
    "print(dtcpm_grasswet_array)\n",
    "print(dtcpm_grasswet_array_nt)"
   ]
  },
  {
   "cell_type": "code",
   "execution_count": null,
   "metadata": {},
   "outputs": [],
   "source": [
    "dbn_rain_springkler_grasswet = dsbasics.bn.DiscreteBayesNetwork([df_rain_pm, df_sprinkler_cpm, df_grasswet_cpm])"
   ]
  },
  {
   "cell_type": "code",
   "execution_count": null,
   "metadata": {},
   "outputs": [],
   "source": [
    "dbn_rain_springkler_grasswet.model_string"
   ]
  },
  {
   "cell_type": "code",
   "execution_count": null,
   "metadata": {},
   "outputs": [],
   "source": [
    "print(dbn_rain_springkler_grasswet.rnet)"
   ]
  },
  {
   "cell_type": "code",
   "execution_count": null,
   "metadata": {},
   "outputs": [],
   "source": [
    "print(dbn_rain_springkler_grasswet.rfit)"
   ]
  },
  {
   "cell_type": "code",
   "execution_count": null,
   "metadata": {},
   "outputs": [],
   "source": [
    "dtcpm_grasswet.to_cpm_table()"
   ]
  },
  {
   "cell_type": "code",
   "execution_count": null,
   "metadata": {},
   "outputs": [],
   "source": [
    "evidence = dict(grasswet='T')\n",
    "evidence"
   ]
  },
  {
   "cell_type": "code",
   "execution_count": null,
   "metadata": {},
   "outputs": [],
   "source": [
    "dbn_rain_springkler_grasswet = dsbasics.bn.DiscreteBayesNetwork([df_rain_pm, df_sprinkler_cpm, df_grasswet_cpm])"
   ]
  },
  {
   "cell_type": "code",
   "execution_count": null,
   "metadata": {},
   "outputs": [],
   "source": [
    "result = dbn_rain_springkler_grasswet.exact_query(evidence, ['rain','sprinkler'])"
   ]
  },
  {
   "cell_type": "code",
   "execution_count": null,
   "metadata": {},
   "outputs": [],
   "source": [
    "result"
   ]
  },
  {
   "cell_type": "code",
   "execution_count": null,
   "metadata": {},
   "outputs": [],
   "source": [
    "dbn_rain_springkler_grasswet.exact_query(dict(grasswet='T',spinkler='F'), ['rain'])"
   ]
  }
 ],
 "metadata": {
  "kernelspec": {
   "display_name": "Python 3",
   "language": "python",
   "name": "python3"
  },
  "language_info": {
   "codemirror_mode": {
    "name": "ipython",
    "version": 3
   },
   "file_extension": ".py",
   "mimetype": "text/x-python",
   "name": "python",
   "nbconvert_exporter": "python",
   "pygments_lexer": "ipython3",
   "version": "3.6.4"
  }
 },
 "nbformat": 4,
 "nbformat_minor": 2
}
